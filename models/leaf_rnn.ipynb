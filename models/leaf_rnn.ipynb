{
 "nbformat": 4,
 "nbformat_minor": 0,
 "metadata": {
  "colab": {
   "name": "leaf_rnn.ipynb",
   "provenance": [],
   "collapsed_sections": []
  },
  "kernelspec": {
   "display_name": "Python 3",
   "name": "python3"
  },
  "language_info": {
   "name": "python"
  }
 },
 "cells": [
  {
   "cell_type": "code",
   "metadata": {
    "id": "MeSWsGzQB15x"
   },
   "source": [
    "import pandas as pd\n",
    "import matplotlib.pyplot as plt\n",
    "import numpy as np\n",
    "\n",
    "import tensorflow as tf\n",
    "from tensorflow import keras\n",
    "from keras.models import Sequential\n",
    "from keras.layers import Dense\n",
    "from keras.layers import LSTM, GRU, Dropout\n",
    "from sklearn.preprocessing import MinMaxScaler\n",
    "from sklearn.metrics import mean_squared_error\n",
    "\n",
    "import torch\n",
    "import torch.nn as nn\n",
    "\n",
    "import seaborn as sns\n",
    "import numpy as np\n",
    "import pandas as pd\n",
    "import matplotlib.pyplot as plt\n",
    "\n",
    "from tqdm.notebook import tqdm"
   ],
   "execution_count": null,
   "outputs": []
  },
  {
   "cell_type": "code",
   "metadata": {
    "colab": {
     "base_uri": "https://localhost:8080/"
    },
    "id": "pF4Qpe9fB2cm",
    "outputId": "e8e80674-3e46-4d64-f54b-2444b362807f"
   },
   "source": [
    "from google.colab import drive\n",
    "drive.mount('/content/drive')"
   ],
   "execution_count": null,
   "outputs": [
    {
     "output_type": "stream",
     "text": [
      "Drive already mounted at /content/drive; to attempt to forcibly remount, call drive.mount(\"/content/drive\", force_remount=True).\n"
     ],
     "name": "stdout"
    }
   ]
  },
  {
   "cell_type": "code",
   "metadata": {
    "id": "poEhd1FKCUao"
   },
   "source": [
    "leaf = pd.read_csv('/content/drive/MyDrive/grow_vision/leaf_area.csv')\n",
    "leaf = leaf.drop(['Unnamed: 0', 'path'], axis=1)\n",
    "\n",
    "data = pd.read_csv('/content/drive/MyDrive/grow_vision/predict_leaf_area.csv')\n",
    "data = data.drop(['Unnamed: 0'], axis=1)\n",
    "\n",
    "# масштаб\n",
    "data['0'] = data['0'] / (384 * 384) * 160 * 190"
   ],
   "execution_count": null,
   "outputs": []
  },
  {
   "cell_type": "code",
   "metadata": {
    "colab": {
     "base_uri": "https://localhost:8080/",
     "height": 279
    },
    "id": "cEiI1O_hCKOD",
    "outputId": "e5ec84c6-ae9d-45ae-8af3-6994acb2cdea"
   },
   "source": [
    "plt.plot(data)\n",
    "plt.plot(leaf)\n",
    "\n",
    "plt.ylabel('Число пикселей листа')\n",
    "plt.xlabel('Номер изображения')\n",
    "plt.legend(['real', 'predict'])\n",
    "plt.show()"
   ],
   "execution_count": null,
   "outputs": [
    {
     "output_type": "display_data",
     "data": {
      "image/png": "[encoded data removed]",
      "text/plain": [
       "<Figure size 432x288 with 1 Axes>"
      ]
     },
     "metadata": {
      "tags": []
     }
    }
   ]
  },
  {
   "cell_type": "code",
   "metadata": {
    "id": "kAQDYXQ6C2C6"
   },
   "source": [
    "# для воспроизводимости результатов\n",
    "np.random.seed(42)"
   ],
   "execution_count": null,
   "outputs": []
  },
  {
   "cell_type": "code",
   "metadata": {
    "id": "9irWOzu8GcVY"
   },
   "source": [
    "def series_to_supervised(data, n_in=1, n_out=1, dropnan=True):\n",
    "\tn_vars = 1 if type(data) is list else data.shape[1]\n",
    "\tdf = pd.DataFrame(data)\n",
    "\tcols, names = list(), list()\n",
    "\t# input sequence (t-n, ... t-1)\n",
    "\tfor i in range(n_in, 0, -1):\n",
    "\t\tcols.append(df.shift(i))\n",
    "\t\tnames += [('var%d(t-%d)' % (j+1, i)) for j in range(n_vars)]\n",
    "\t# forecast sequence (t, t+1, ... t+n)\n",
    "\tfor i in range(0, n_out):\n",
    "\t\tcols.append(df.shift(-i))\n",
    "\t\tif i == 0:\n",
    "\t\t\tnames += [('var%d(t)' % (j+1)) for j in range(n_vars)]\n",
    "\t\telse:\n",
    "\t\t\tnames += [('var%d(t+%d)' % (j+1, i)) for j in range(n_vars)]\n",
    "\t# put it all together\n",
    "\tagg = pd.concat(cols, axis=1)\n",
    "\tagg.columns = names\n",
    "\t# drop rows with NaN values\n",
    "\tif dropnan:\n",
    "\t\tagg.dropna(inplace=True)\n",
    "\treturn agg"
   ],
   "execution_count": null,
   "outputs": []
  },
  {
   "cell_type": "code",
   "metadata": {
    "id": "8igAPvn5AUUo"
   },
   "source": [
    "def prepare_data(series, n_test, n_lag, n_seq):\n",
    "\t# extract raw values\n",
    "\traw_values = series.values\n",
    "\traw_values = raw_values.reshape(len(raw_values), 1)\n",
    "\t# transform into supervised learning problem X, y\n",
    "\tsupervised = series_to_supervised(raw_values, n_lag, n_seq)\n",
    "\tsupervised_values = supervised.values\n",
    "\t# split into train and test sets\n",
    "\ttrain, test = supervised_values[0:-n_test], supervised_values[-n_test:]\n",
    "\treturn train, test"
   ],
   "execution_count": null,
   "outputs": []
  },
  {
   "cell_type": "code",
   "metadata": {
    "id": "sKhNeSmfA5cT"
   },
   "source": [
    "def difference(dataset, interval=1):\n",
    "\tdiff = list()\n",
    "\tfor i in range(interval, len(dataset)):\n",
    "\t\tvalue = dataset[i] - dataset[i - interval]\n",
    "\t\tdiff.append(value)\n",
    "\treturn pd.Series(diff)"
   ],
   "execution_count": null,
   "outputs": []
  },
  {
   "cell_type": "code",
   "metadata": {
    "id": "Ddw9o2NRBgA1"
   },
   "source": [
    "def prepare_data(series, n_test, n_lag, n_seq):\n",
    "\t# extract raw values\n",
    "\traw_values = series.values\n",
    "\t# transform data to be stationary\n",
    "\tdiff_series = difference(raw_values, 1)\n",
    "\tdiff_values = diff_series.values\n",
    "\tdiff_values = diff_values.reshape(len(diff_values), 1)\n",
    "\t# rescale values to -1, 1\n",
    "\tscaler = MinMaxScaler(feature_range=(-1, 1))\n",
    "\tscaled_values = scaler.fit_transform(diff_values)\n",
    "\tscaled_values = scaled_values.reshape(len(scaled_values), 1)\n",
    "\t# transform into supervised learning problem X, y\n",
    "\tsupervised = series_to_supervised(scaled_values, n_lag, n_seq)\n",
    "\tsupervised_values = supervised.values\n",
    "\t# split into train and test sets\n",
    "\ttrain, test = supervised_values[0:-n_test], supervised_values[-n_test:]\n",
    "\treturn scaler, train, test"
   ],
   "execution_count": null,
   "outputs": []
  },
  {
   "cell_type": "code",
   "metadata": {
    "colab": {
     "base_uri": "https://localhost:8080/"
    },
    "id": "l0-vKd1xBiDU",
    "outputId": "e74a069b-fc99-44e7-cd15-92f597058296"
   },
   "source": [
    "n_lag = 3\n",
    "n_seq = 3\n",
    "n_test = 100\n",
    "\n",
    "scaler, train, test = prepare_data(data, n_test, n_lag, n_seq)\n",
    "\n",
    "print('Train: %s, Test: %s' % (train.shape, test.shape))"
   ],
   "execution_count": null,
   "outputs": [
    {
     "output_type": "stream",
     "text": [
      "Train: (294, 6), Test: (100, 6)\n"
     ],
     "name": "stdout"
    }
   ]
  },
  {
   "cell_type": "code",
   "metadata": {
    "id": "SHKq9CnZBpJ7"
   },
   "source": [
    "def fit_lstm(train, n_lag, n_seq, n_batch, nb_epoch, n_neurons):\n",
    "\tX, y = train[:, 0:n_lag], train[:, n_lag:]\n",
    "\tX = X.reshape(X.shape[0], 1, X.shape[1])\n",
    "\t# design network\n",
    "\tmodel = Sequential()\n",
    "\tmodel.add(LSTM(n_neurons, batch_input_shape=(n_batch, X.shape[1], X.shape[2]), stateful=True))\n",
    "\tmodel.add(Dense(y.shape[1]))\n",
    "\tmodel.compile(loss='mean_squared_error', optimizer='adam')\n",
    " \n",
    "\t# fit network\n",
    "\tfor i in tqdm(range(nb_epoch)):\n",
    "\t\tmodel.fit(X, y, epochs=1, batch_size=n_batch, verbose=0, shuffle=False)\n",
    "\t\tmodel.reset_states()\n",
    "\treturn model\n",
    "\n",
    "def fit_gru(train, n_lag, n_seq, n_batch, nb_epoch, n_neurons):\n",
    "\t# reshape training into [samples, timesteps, features]\n",
    "\tX, y = train[:, 0:n_lag], train[:, n_lag:]\n",
    "\tX = X.reshape(X.shape[0], 1, X.shape[1])\n",
    "\t# design network\n",
    "\tmodel = Sequential()\n",
    "\tmodel.add(GRU(n_neurons, batch_input_shape=(n_batch, X.shape[1], X.shape[2]), stateful=True))\n",
    "\tmodel.add(Dense(y.shape[1]))\n",
    "\tmodel.compile(loss='mean_squared_error', optimizer='adam')\n",
    " \n",
    "\t# fit network\n",
    "\tfor i in tqdm(range(nb_epoch)):\n",
    "\t\tmodel.fit(X, y, epochs=1, batch_size=n_batch, verbose=0, shuffle=False)\n",
    "\t\tmodel.reset_states()\n",
    "\treturn model"
   ],
   "execution_count": null,
   "outputs": []
  },
  {
   "cell_type": "code",
   "metadata": {
    "id": "B6Lpz7siB51m"
   },
   "source": [
    "def forecast_lstm(model, X, n_batch):\n",
    "\t# reshape input pattern to [samples, timesteps, features]\n",
    "\tX = X.reshape(1, 1, len(X))\n",
    "\t# make forecast\n",
    "\tforecast = model.predict(X, batch_size=n_batch)\n",
    "\t# convert to array\n",
    "\treturn [x for x in forecast[0, :]]"
   ],
   "execution_count": null,
   "outputs": []
  },
  {
   "cell_type": "code",
   "metadata": {
    "id": "Ct_mSQkCB_VE"
   },
   "source": [
    "def make_forecasts(model, n_batch, train, test, n_lag, n_seq):\n",
    "\tforecasts = list()\n",
    "\tfor i in range(len(test)):\n",
    "\t\tX, y = test[i, 0:n_lag], test[i, n_lag:]\n",
    "\t\t# make forecast\n",
    "\t\tforecast = forecast_lstm(model, X, n_batch)\n",
    "\t\t# store the forecast\n",
    "\t\tforecasts.append(forecast)\n",
    "\treturn forecasts"
   ],
   "execution_count": null,
   "outputs": []
  },
  {
   "cell_type": "code",
   "metadata": {
    "id": "mlQ6Cw_SCDOX"
   },
   "source": [],
   "execution_count": null,
   "outputs": []
  },
  {
   "cell_type": "code",
   "metadata": {
    "id": "dFwLtaUNCGcY"
   },
   "source": [
    "def inverse_difference(last_ob, forecast):\n",
    "\t# invert first forecast\n",
    "\tinverted = list()\n",
    "\tinverted.append(forecast[0] + last_ob)\n",
    "\t# propagate difference forecast using inverted first value\n",
    "\tfor i in range(1, len(forecast)):\n",
    "\t\tinverted.append(forecast[i] + inverted[i-1])\n",
    "\treturn inverted"
   ],
   "execution_count": null,
   "outputs": []
  },
  {
   "cell_type": "code",
   "metadata": {
    "id": "UWDc5nIyCIp4"
   },
   "source": [
    "def inverse_transform(series, forecasts, scaler, n_test):\n",
    "    \n",
    "    inverted = list()\n",
    "    for i in range(len(forecasts)):\n",
    "      # create array from forecast\n",
    "      \n",
    "      forecast = np.array(forecasts[i])\n",
    "      forecast = forecast.reshape(1, len(forecast))\n",
    "      # invert scaling\n",
    "      inv_scale = scaler.inverse_transform(forecast)\n",
    "      inv_scale = inv_scale[0, :]\n",
    "      # invert differencing\n",
    "      index = len(series) - n_test + i - 1\n",
    "      last_ob = series.values[index]\n",
    "      inv_diff = inverse_difference(last_ob, inv_scale)\n",
    "      # store\n",
    "      inverted.append(inv_diff)\n",
    "    return inverted"
   ],
   "execution_count": null,
   "outputs": []
  },
  {
   "cell_type": "code",
   "metadata": {
    "id": "0qggbgpNIEe6"
   },
   "source": [
    "def plot_forecasts(series, forecasts, n_test):\n",
    "\t# plot the entire dataset in blue\n",
    "\tplt.plot(series.values)\n",
    "\t# plot the forecasts in red\n",
    "\tfor i in range(len(forecasts)):\n",
    "\t\toff_s = len(series) - n_test + i - 1\n",
    "\t\toff_e = off_s + len(forecasts[i]) + 1\n",
    "\t\txaxis = [x for x in range(off_s, off_e)]\n",
    "\t\tyaxis = [series.values[off_s]] + forecasts[i]\n",
    "\t\tplt.plot(xaxis[:20], yaxis[:20], color='red')"
   ],
   "execution_count": null,
   "outputs": []
  },
  {
   "cell_type": "markdown",
   "metadata": {
    "id": "s_c1XVQwI4Mx"
   },
   "source": [
    "### LSTM"
   ]
  },
  {
   "cell_type": "code",
   "metadata": {
    "id": "Ira7q00dKueG",
    "colab": {
     "base_uri": "https://localhost:8080/",
     "height": 300
    },
    "outputId": "3cda70a4-6fc0-4bfc-b8ae-2bf347eb7ac4"
   },
   "source": [
    "from keras_tqdm import TQDMNotebookCallback"
   ],
   "execution_count": 1,
   "outputs": [
    {
     "output_type": "error",
     "ename": "ModuleNotFoundError",
     "evalue": "ignored",
     "traceback": [
      "\u001B[0;31m---------------------------------------------------------------------------\u001B[0m",
      "\u001B[0;31mModuleNotFoundError\u001B[0m                       Traceback (most recent call last)",
      "\u001B[0;32m<ipython-input-1-00f4afaa7f91>\u001B[0m in \u001B[0;36m<module>\u001B[0;34m()\u001B[0m\n\u001B[0;32m----> 1\u001B[0;31m \u001B[0;32mfrom\u001B[0m \u001B[0mkeras_tqdm\u001B[0m \u001B[0;32mimport\u001B[0m \u001B[0mTQDMNotebookCallback\u001B[0m\u001B[0;34m\u001B[0m\u001B[0;34m\u001B[0m\u001B[0m\n\u001B[0m",
      "\u001B[0;31mModuleNotFoundError\u001B[0m: No module named 'keras_tqdm'",
      "",
      "\u001B[0;31m---------------------------------------------------------------------------\u001B[0;32m\nNOTE: If your import is failing due to a missing package, you can\nmanually install dependencies using either !pip or !apt.\n\nTo view examples of installing some common dependencies, click the\n\"Open Examples\" button below.\n\u001B[0;31m---------------------------------------------------------------------------\u001B[0m\n"
     ],
     "errorDetails": {
      "actions": [
       {
        "action": "open_url",
        "actionText": "Open Examples",
        "url": "/notebooks/snippets/importing_libraries.ipynb"
       }
      ]
     }
    }
   ]
  },
  {
   "cell_type": "code",
   "metadata": {
    "id": "74zGvBi6H9-N"
   },
   "source": [
    "n_batch = 1\n",
    "nb_epoch = 100\n",
    "n_neurons = 1\n",
    "model = fit_lstm(train, n_lag, n_seq, n_batch, nb_epoch, n_neurons)"
   ],
   "execution_count": null,
   "outputs": []
  },
  {
   "cell_type": "code",
   "metadata": {
    "id": "JXRj2BW9CL6l"
   },
   "source": [
    "forecasts = make_forecasts(model, n_batch, train, test, n_lag, n_seq)\n",
    "forecasts = inverse_transform(data, forecasts, scaler, n_test+3)"
   ],
   "execution_count": null,
   "outputs": []
  },
  {
   "cell_type": "code",
   "metadata": {
    "id": "o4AE30w5CPSO"
   },
   "source": [
    "actual = [row[n_lag:] for row in test]\n",
    "actual = inverse_transform(data, actual, scaler, n_test+3)"
   ],
   "execution_count": null,
   "outputs": []
  },
  {
   "cell_type": "code",
   "metadata": {
    "id": "g9zfh_yZQion"
   },
   "source": [
    "len(actual)"
   ],
   "execution_count": null,
   "outputs": []
  },
  {
   "cell_type": "code",
   "metadata": {
    "id": "IIlLr4daRpE6"
   },
   "source": [
    ""
   ],
   "execution_count": null,
   "outputs": []
  },
  {
   "cell_type": "code",
   "metadata": {
    "id": "3CAg0kDSF8E0"
   },
   "source": [
    "plot_forecasts(data, forecasts, n_test+3)"
   ],
   "execution_count": null,
   "outputs": []
  },
  {
   "cell_type": "code",
   "metadata": {
    "id": "cZq08W6TPXdN"
   },
   "source": [
    "def evaluate_forecasts(test, forecasts, n_lag, n_seq):\n",
    "  for i in range(n_seq):\n",
    "    actual = [row[i] for row in test]\n",
    "    predicted = [forecast[i] for forecast in forecasts]\n",
    "    print(actual)\n",
    "    print(pred)\n",
    "    rmse = np.sqrt(mean_squared_error(actual, predicted))\n",
    "    print('t+%d RMSE: %f' % ((i+1), rmse))"
   ],
   "execution_count": null,
   "outputs": []
  },
  {
   "cell_type": "code",
   "metadata": {
    "id": "zfSc6UpjDOCJ"
   },
   "source": [
    "evaluate_forecasts(actual, forecasts, n_lag, n_seq)"
   ],
   "execution_count": null,
   "outputs": []
  },
  {
   "cell_type": "code",
   "metadata": {
    "id": "c-vhfCM_DXOa"
   },
   "source": [
    "#LSTM\n",
    "\n",
    "results_1 = np.array([26.6, 0, 0, 0]) / 484\n",
    "results_2 = np.array([26.6, 39.8, 0, 0]) / 484\n",
    "results_3 = np.array([27.8, 41.8, 54.7, 0]) / 484\n",
    "results_4 = np.array([27.1, 40.4, 52.1, 63.5])/ 484"
   ],
   "execution_count": null,
   "outputs": []
  },
  {
   "cell_type": "code",
   "metadata": {
    "id": "iMPVsV3vs8Zb"
   },
   "source": [
    "fig, ax = plt.subplots()\n",
    "labels = [1, 2, 3, 4]\n",
    "\n",
    "ax.set_ylabel('Ошибка, см^2')\n",
    "ax.set_xlabel('Временной шаг, ед.')\n",
    "ax.set_title('Ошибка при прогнозировании LSTM')\n",
    "x = np.arange(len(results_3))  # the label locations\n",
    "width = 0.5\n",
    "ax.bar(x - width, results_1, width/2, label='1')\n",
    "ax.bar(x - width/2, results_2, width/2, label='2', color='skyblue')\n",
    "ax.bar(x, results_3, width/2, label='3', color='gold')\n",
    "ax.bar(x + width/2, results_4, width/2, label='4', color='seagreen')\n",
    "ax.legend()\n",
    "ax.set_xticks(x)\n",
    "ax.set_xticklabels(labels)\n",
    "plt.show()"
   ],
   "execution_count": null,
   "outputs": []
  },
  {
   "cell_type": "code",
   "metadata": {
    "id": "7RL2JLSpxtup"
   },
   "source": [
    "#GRU\n",
    "\n",
    "results_1 = np.array([21.2, 0, 0, 0]) / 484\n",
    "results_2 = np.array([20.7, 23.4, 0, 0]) / 484\n",
    "results_3 = np.array([21.4, 25.4, 34.5, 0]) / 484\n",
    "results_4 = np.array([21.4, 24.3, 34.8, 40.5])/ 484"
   ],
   "execution_count": null,
   "outputs": []
  },
  {
   "cell_type": "code",
   "metadata": {
    "id": "jHGHIiUstJvN"
   },
   "source": [
    "fig, ax = plt.subplots()\n",
    "labels = [1, 2, 3, 4]\n",
    "\n",
    "ax.set_ylabel('Ошибка, см^2')\n",
    "ax.set_xlabel('Временной шаг, ед.')\n",
    "ax.set_title('Ошибка при прогнозировании GRU')\n",
    "x = np.arange(len(results_3))  # the label locations\n",
    "width = 0.5\n",
    "ax.bar(x - width, results_1, width/2, label='1')\n",
    "ax.bar(x - width/2, results_2, width/2, label='2', color='skyblue')\n",
    "ax.bar(x, results_3, width/2, label='3', color='gold')\n",
    "ax.bar(x + width/2, results_4, width/2, label='4', color='seagreen')\n",
    "ax.legend()\n",
    "ax.set_xticks(x)\n",
    "ax.set_xticklabels(labels)\n",
    "plt.show()"
   ],
   "execution_count": null,
   "outputs": []
  },
  {
   "cell_type": "code",
   "metadata": {
    "id": "ECDYY5HXtPbD"
   },
   "source": [
    ""
   ],
   "execution_count": null,
   "outputs": []
  }
 ]
}